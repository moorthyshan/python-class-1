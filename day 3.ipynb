{
 "cells": [
  {
   "cell_type": "code",
   "execution_count": 19,
   "id": "4a111f4c",
   "metadata": {},
   "outputs": [],
   "source": [
    "###list \\\n",
    "# a=[[\"moorthy\",\"20\",\"chennai\"],[\"kodi\",\"20\",\"chennai\"]]"
   ]
  },
  {
   "cell_type": "code",
   "execution_count": 22,
   "id": "dd210990",
   "metadata": {},
   "outputs": [
    {
     "name": "stdout",
     "output_type": "stream",
     "text": [
      "<class 'list'>\n",
      "True\n",
      "1\n"
     ]
    }
   ],
   "source": [
    "a=[\"moorthy\",\"20\",\"chennai\"]\n",
    "print(type(a))\n",
    "print(isinstance(a,list))\n",
    "print(a.count(\"moorthy\"))"
   ]
  },
  {
   "cell_type": "code",
   "execution_count": 10,
   "id": "bd688883",
   "metadata": {},
   "outputs": [
    {
     "name": "stdout",
     "output_type": "stream",
     "text": [
      "20\n",
      "moorthy\n",
      "['20', 'chennai', 'moorthy']\n"
     ]
    }
   ],
   "source": [
    "print(min(a))\n",
    "print(max(a))\n",
    "print(sorted(a))"
   ]
  },
  {
   "cell_type": "code",
   "execution_count": 13,
   "id": "b2ea13c1",
   "metadata": {},
   "outputs": [
    {
     "name": "stdout",
     "output_type": "stream",
     "text": [
      "3\n",
      "1\n"
     ]
    }
   ],
   "source": [
    "print(len(a))\n",
    "print(a.index('20')) ### rindex, find , rfind will not work in list"
   ]
  },
  {
   "cell_type": "code",
   "execution_count": 14,
   "id": "33ddd205",
   "metadata": {},
   "outputs": [
    {
     "name": "stdout",
     "output_type": "stream",
     "text": [
      "1\n"
     ]
    }
   ],
   "source": [
    "print(a.count('20'))"
   ]
  },
  {
   "cell_type": "code",
   "execution_count": 55,
   "id": "39cf34bb",
   "metadata": {},
   "outputs": [
    {
     "name": "stdout",
     "output_type": "stream",
     "text": [
      "['s', 'chintendulk', 'r']\n"
     ]
    }
   ],
   "source": [
    "a=\"sachintendulkar\"\n",
    "print(a.split(\"a\"))"
   ]
  },
  {
   "cell_type": "code",
   "execution_count": 56,
   "id": "47e400c8",
   "metadata": {},
   "outputs": [
    {
     "name": "stdout",
     "output_type": "stream",
     "text": [
      "['kodi ', 'hi', 'abi', 'babu']\n"
     ]
    }
   ],
   "source": [
    "a =[\"kodi \",\"hi\",\"abi\"] ###append adding the words or letter\n",
    "a.append(\"babu\")\n",
    "print(a)"
   ]
  },
  {
   "cell_type": "code",
   "execution_count": 57,
   "id": "393f342f",
   "metadata": {},
   "outputs": [
    {
     "name": "stdout",
     "output_type": "stream",
     "text": [
      "['kodi ', 'hi', 'try', 'abi', 'babu']\n"
     ]
    }
   ],
   "source": [
    "### insert - particular place\n",
    "a.insert(2,\"try\")\n",
    "print(a)"
   ]
  },
  {
   "cell_type": "code",
   "execution_count": 58,
   "id": "1cd1ce06",
   "metadata": {},
   "outputs": [
    {
     "name": "stdout",
     "output_type": "stream",
     "text": [
      "['kodi ', 'try', 'abi', 'babu']\n"
     ]
    }
   ],
   "source": [
    "##remove - knowing the word \n",
    "a.remove(\"hi\")\n",
    "print(a)"
   ]
  },
  {
   "cell_type": "code",
   "execution_count": 59,
   "id": "ba4a0e9d",
   "metadata": {},
   "outputs": [
    {
     "name": "stdout",
     "output_type": "stream",
     "text": [
      "['kodi ', 'abi', 'babu']\n"
     ]
    }
   ],
   "source": [
    "## del - by index vale \n",
    "del a[1]\n",
    "print(a)"
   ]
  },
  {
   "cell_type": "code",
   "execution_count": 60,
   "id": "70eead26",
   "metadata": {},
   "outputs": [
    {
     "name": "stdout",
     "output_type": "stream",
     "text": [
      "['kodi ', 'abi']\n",
      "babu\n"
     ]
    }
   ],
   "source": [
    "# ### pop remove the last word of the list\n",
    "b=a.pop()\n",
    "print(a)\n",
    "print(b)"
   ]
  },
  {
   "cell_type": "code",
   "execution_count": 63,
   "id": "f8e46d22",
   "metadata": {},
   "outputs": [
    {
     "name": "stdout",
     "output_type": "stream",
     "text": [
      "['hi', 'hello', 'how', 'why']\n"
     ]
    }
   ],
   "source": [
    "a = [\"hi\",\"hello\"]\n",
    "b = [\"how\",\"why\"]\n",
    "a.extend(b)\n",
    "print(a)"
   ]
  },
  {
   "cell_type": "code",
   "execution_count": 64,
   "id": "cc025bbd",
   "metadata": {},
   "outputs": [
    {
     "name": "stdout",
     "output_type": "stream",
     "text": [
      "[1, 2, 3]\n",
      "[1, 2, 3]\n"
     ]
    }
   ],
   "source": [
    "### shallow copy two variables are gets changed \n",
    "a =[1,2,3]\n",
    "b=a\n",
    "print(a)\n",
    "print(b)"
   ]
  },
  {
   "cell_type": "code",
   "execution_count": 65,
   "id": "b2157941",
   "metadata": {},
   "outputs": [
    {
     "name": "stdout",
     "output_type": "stream",
     "text": [
      "[1, 2, 3, 4]\n",
      "[1, 2, 3, 4]\n"
     ]
    }
   ],
   "source": [
    "a.append(4)\n",
    "print(a)\n",
    "print(b)"
   ]
  },
  {
   "cell_type": "code",
   "execution_count": 67,
   "id": "b4f5a5a4",
   "metadata": {},
   "outputs": [
    {
     "name": "stdout",
     "output_type": "stream",
     "text": [
      "[1, 2, 3]\n",
      "[1, 2, 3, 5]\n"
     ]
    }
   ],
   "source": [
    "a = [1,2,3]\n",
    "b = a.copy()\n",
    "# a.append(4)\n",
    "b.append(5)\n",
    "print(a)\n",
    "print(b)"
   ]
  },
  {
   "cell_type": "code",
   "execution_count": 68,
   "id": "073bcb66",
   "metadata": {},
   "outputs": [
    {
     "name": "stdout",
     "output_type": "stream",
     "text": [
      "0\n"
     ]
    }
   ],
   "source": [
    "### tuble - immutable , cant append or copy or deep copy , index will work but not rindex, find,rfind\n",
    "a = (1,2,3)\n",
    "print(a.index(1))"
   ]
  },
  {
   "cell_type": "code",
   "execution_count": 71,
   "id": "1c68d433",
   "metadata": {},
   "outputs": [
    {
     "ename": "SyntaxError",
     "evalue": "invalid syntax (2938792188.py, line 5)",
     "output_type": "error",
     "traceback": [
      "\u001b[1;36m  Input \u001b[1;32mIn [71]\u001b[1;36m\u001b[0m\n\u001b[1;33m    1a = \"kodi\"\u001b[0m\n\u001b[1;37m     ^\u001b[0m\n\u001b[1;31mSyntaxError\u001b[0m\u001b[1;31m:\u001b[0m invalid syntax\n"
     ]
    }
   ],
   "source": [
    "a= \"kodi\"\n",
    "\n",
    "# vaiable name cant start with number and it doesn't have any specfic character in it\n",
    "\n",
    "1a = \"kodi\""
   ]
  },
  {
   "cell_type": "code",
   "execution_count": null,
   "id": "8ba56ed7",
   "metadata": {},
   "outputs": [],
   "source": []
  }
 ],
 "metadata": {
  "kernelspec": {
   "display_name": "Python 3 (ipykernel)",
   "language": "python",
   "name": "python3"
  },
  "language_info": {
   "codemirror_mode": {
    "name": "ipython",
    "version": 3
   },
   "file_extension": ".py",
   "mimetype": "text/x-python",
   "name": "python",
   "nbconvert_exporter": "python",
   "pygments_lexer": "ipython3",
   "version": "3.9.12"
  }
 },
 "nbformat": 4,
 "nbformat_minor": 5
}
