{
 "cells": [
  {
   "cell_type": "code",
   "execution_count": 1,
   "id": "a49f6893",
   "metadata": {},
   "outputs": [
    {
     "name": "stdout",
     "output_type": "stream",
     "text": [
      "babu\n"
     ]
    }
   ],
   "source": [
    "print(\"babu\")"
   ]
  },
  {
   "cell_type": "code",
   "execution_count": 2,
   "id": "53266286",
   "metadata": {},
   "outputs": [
    {
     "name": "stdout",
     "output_type": "stream",
     "text": [
      "hi \n",
      "kodi \tbabu\n"
     ]
    }
   ],
   "source": [
    "print(\"hi \\nkodi \\tbabu\")"
   ]
  },
  {
   "cell_type": "code",
   "execution_count": 4,
   "id": "27a8a997",
   "metadata": {},
   "outputs": [
    {
     "name": "stdout",
     "output_type": "stream",
     "text": [
      "\t0.5thu\n"
     ]
    }
   ],
   "source": [
    "# print(\"\\t0.5thu\")\n",
    "# print(\"hi \\nkodi \\tbabu\")"
   ]
  },
  {
   "cell_type": "code",
   "execution_count": 7,
   "id": "b544e386",
   "metadata": {},
   "outputs": [
    {
     "data": {
      "text/plain": [
       "'\\nbabu\\nkodi\\nabi\\n'"
      ]
     },
     "execution_count": 7,
     "metadata": {},
     "output_type": "execute_result"
    }
   ],
   "source": [
    "'''\n",
    "babu\n",
    "kodi\n",
    "abi\n",
    "'''"
   ]
  },
  {
   "cell_type": "code",
   "execution_count": 11,
   "id": "35e4fcf2",
   "metadata": {},
   "outputs": [
    {
     "name": "stderr",
     "output_type": "stream",
     "text": [
      "error was occured\n",
      "warining\n"
     ]
    }
   ],
   "source": [
    "import logging\n",
    "logger= logging.getLogger()\n",
    "logger.error(\"error was occured\")\n",
    "logger.critical(\"warining\")"
   ]
  },
  {
   "cell_type": "code",
   "execution_count": 12,
   "id": "60c51f4f",
   "metadata": {},
   "outputs": [
    {
     "name": "stdout",
     "output_type": "stream",
     "text": [
      "abi loves alamelu \n"
     ]
    }
   ],
   "source": [
    "a=\"abi loves alamelu \"\n",
    "# a is string\n",
    "# \"abi loves alamelu\" is the value of a \n",
    "print(a)"
   ]
  },
  {
   "cell_type": "code",
   "execution_count": 13,
   "id": "d34a27d3",
   "metadata": {},
   "outputs": [
    {
     "name": "stdout",
     "output_type": "stream",
     "text": [
      "abi loves alamelu \n"
     ]
    }
   ],
   "source": [
    "print(a)"
   ]
  },
  {
   "cell_type": "code",
   "execution_count": 20,
   "id": "94518d7d",
   "metadata": {},
   "outputs": [
    {
     "name": "stdout",
     "output_type": "stream",
     "text": [
      "tea\n",
      "<class 'str'>\n",
      "True\n",
      "False\n"
     ]
    }
   ],
   "source": [
    "a =\"tea\"\n",
    "print(a)\n",
    "print(type(a))\n",
    "print(isinstance(a,str))\n",
    "print(isinstance(a,int))"
   ]
  },
  {
   "cell_type": "code",
   "execution_count": 21,
   "id": "c1296b2c",
   "metadata": {},
   "outputs": [
    {
     "name": "stdout",
     "output_type": "stream",
     "text": [
      "1\n",
      "<class 'int'>\n",
      "False\n",
      "True\n"
     ]
    }
   ],
   "source": [
    "a =1\n",
    "print(a)\n",
    "print(type(a))\n",
    "print(isinstance(a,str))\n",
    "print(isinstance(a,int))"
   ]
  },
  {
   "cell_type": "code",
   "execution_count": 23,
   "id": "c3946a81",
   "metadata": {},
   "outputs": [
    {
     "name": "stdout",
     "output_type": "stream",
     "text": [
      "10\n",
      "['K', 'U', 'd', 'i', 'i', 'l', 'o', 'p', 'p', 'u']\n",
      "K\n",
      "u\n"
     ]
    }
   ],
   "source": [
    "a=\"KodiUppuli\"\n",
    "print(len(a))\n",
    "print(sorted(a))\n",
    "print(min(a))\n",
    "print(max(a))"
   ]
  },
  {
   "cell_type": "code",
   "execution_count": 24,
   "id": "2d6f29d2",
   "metadata": {},
   "outputs": [
    {
     "name": "stdout",
     "output_type": "stream",
     "text": [
      "KODIUPPULI\n",
      "kodiuppuli\n",
      "False\n",
      "False\n",
      "False\n",
      "True\n",
      "True\n"
     ]
    }
   ],
   "source": [
    "print(a.upper())\n",
    "print(a.lower())\n",
    "print(a.isupper())\n",
    "print(a.islower())\n",
    "print(a.isdigit())\n",
    "print(a.isalpha())\n",
    "print(a.isalnum())"
   ]
  },
  {
   "cell_type": "code",
   "execution_count": null,
   "id": "c70e579f",
   "metadata": {},
   "outputs": [],
   "source": []
  }
 ],
 "metadata": {
  "kernelspec": {
   "display_name": "Python 3 (ipykernel)",
   "language": "python",
   "name": "python3"
  },
  "language_info": {
   "codemirror_mode": {
    "name": "ipython",
    "version": 3
   },
   "file_extension": ".py",
   "mimetype": "text/x-python",
   "name": "python",
   "nbconvert_exporter": "python",
   "pygments_lexer": "ipython3",
   "version": "3.9.12"
  }
 },
 "nbformat": 4,
 "nbformat_minor": 5
}
